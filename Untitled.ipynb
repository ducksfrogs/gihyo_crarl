{
 "cells": [
  {
   "cell_type": "code",
   "execution_count": 1,
   "metadata": {},
   "outputs": [],
   "source": [
    "import re\n",
    "import time\n",
    "import requests\n",
    "import lxml.html\n",
    "from pymongo import MongoClient"
   ]
  },
  {
   "cell_type": "code",
   "execution_count": 2,
   "metadata": {},
   "outputs": [
    {
     "data": {
      "text/plain": [
       "'key_1'"
      ]
     },
     "execution_count": 2,
     "metadata": {},
     "output_type": "execute_result"
    }
   ],
   "source": [
    "client = MongoClient('localhost', 27017)\n",
    "collection = client.sk.ebook\n",
    "collection.create_index('key', unique=True)"
   ]
  },
  {
   "cell_type": "code",
   "execution_count": 3,
   "metadata": {},
   "outputs": [],
   "source": [
    "session = requests.Session()\n",
    "response = session.get('https://gihyo.jp/dp')"
   ]
  },
  {
   "cell_type": "code",
   "execution_count": 8,
   "metadata": {},
   "outputs": [],
   "source": [
    "html = lxml.html.fromstring(response.text)\n",
    "html.make_links_absolute(base_url=response.url)"
   ]
  },
  {
   "cell_type": "code",
   "execution_count": 9,
   "metadata": {},
   "outputs": [
    {
     "name": "stdout",
     "output_type": "stream",
     "text": [
      "https://gihyo.jp/dp/ebook/2020/978-4-297-11654-5\n",
      "https://gihyo.jp/dp/ebook/2020/978-4-297-11604-0\n",
      "https://gihyo.jp/dp/ebook/2020/978-4-297-11571-5\n",
      "https://gihyo.jp/dp/ebook/2020/978-4-297-11573-9\n",
      "https://gihyo.jp/dp/ebook/2020/978-4-297-11541-8\n",
      "https://gihyo.jp/dp/ebook/2020/978-4-297-11612-5\n",
      "https://gihyo.jp/dp/ebook/2020/978-4-297-11555-5\n",
      "https://gihyo.jp/dp/ebook/2020/978-4-297-11547-0\n",
      "https://gihyo.jp/dp/ebook/2020/978-4-297-11632-3\n",
      "https://gihyo.jp/dp/ebook/2020/978-4-297-11400-8\n",
      "https://gihyo.jp/dp/ebook/2020/978-4-297-11497-8\n",
      "https://gihyo.jp/dp/ebook/2020/978-4-297-11479-4\n",
      "https://gihyo.jp/dp/ebook/2020/978-4-297-11236-3\n",
      "https://gihyo.jp/dp/ebook/2020/978-4-297-11495-4\n",
      "https://gihyo.jp/dp/ebook/2020/978-4-297-11489-3\n",
      "https://gihyo.jp/dp/ebook/2020/978-4-297-11567-8\n",
      "https://gihyo.jp/dp/ebook/2020/978-4-297-11530-2\n",
      "https://gihyo.jp/dp/ebook/2020/978-4-297-11569-2\n",
      "https://gihyo.jp/dp/ebook/2020/978-4-297-11614-9\n",
      "https://gihyo.jp/dp/ebook/2020/978-4-297-11475-6\n",
      "https://gihyo.jp/dp/ebook/2020/978-4-297-11593-7\n",
      "https://gihyo.jp/dp/ebook/2020/978-4-297-11522-7\n",
      "https://gihyo.jp/dp/ebook/2020/978-4-297-11481-7\n",
      "https://gihyo.jp/dp/ebook/2020/978-4-297-11602-6\n",
      "https://gihyo.jp/dp/ebook/2020/978-4-297-11595-1\n",
      "https://gihyo.jp/dp/ebook/2020/978-4-297-11284-4\n",
      "https://gihyo.jp/dp/ebook/2020/978-4-297-11487-9\n",
      "https://gihyo.jp/dp/ebook/2020/978-4-297-11524-1\n",
      "https://gihyo.jp/dp/ebook/2020/978-4-297-11528-9\n",
      "https://gihyo.jp/dp/ebook/2020/978-4-297-11414-5\n"
     ]
    }
   ],
   "source": [
    "for a in html.cssselect('#listBook > li > a[itemprop = \"url\"]'):\n",
    "    url = a.get('href')\n",
    "    print(url)"
   ]
  },
  {
   "cell_type": "code",
   "execution_count": 10,
   "metadata": {},
   "outputs": [
    {
     "data": {
      "text/plain": [
       "'https://gihyo.jp/dp'"
      ]
     },
     "execution_count": 10,
     "metadata": {},
     "output_type": "execute_result"
    }
   ],
   "source": [
    "response.url"
   ]
  },
  {
   "cell_type": "code",
   "execution_count": 11,
   "metadata": {},
   "outputs": [],
   "source": [
    "def myfunc():\n",
    "    yield \"one\"\n",
    "    yield \"two\"\n",
    "    yield  \"three\""
   ]
  },
  {
   "cell_type": "code",
   "execution_count": 13,
   "metadata": {},
   "outputs": [],
   "source": [
    "x = myfunc()"
   ]
  },
  {
   "cell_type": "code",
   "execution_count": 15,
   "metadata": {},
   "outputs": [
    {
     "data": {
      "text/plain": [
       "'one'"
      ]
     },
     "execution_count": 15,
     "metadata": {},
     "output_type": "execute_result"
    }
   ],
   "source": [
    "x.__next__()"
   ]
  },
  {
   "cell_type": "code",
   "execution_count": 16,
   "metadata": {},
   "outputs": [
    {
     "data": {
      "text/plain": [
       "'two'"
      ]
     },
     "execution_count": 16,
     "metadata": {},
     "output_type": "execute_result"
    }
   ],
   "source": [
    "x.__next__()"
   ]
  },
  {
   "cell_type": "code",
   "execution_count": 17,
   "metadata": {},
   "outputs": [],
   "source": [
    "def myfunc(x:int):\n",
    "    for x_ in range(x):\n",
    "        yield x_*2\n",
    "        \n"
   ]
  },
  {
   "cell_type": "code",
   "execution_count": null,
   "metadata": {},
   "outputs": [],
   "source": [
    "for i in myfunc():"
   ]
  }
 ],
 "metadata": {
  "kernelspec": {
   "display_name": "Python 3",
   "language": "python",
   "name": "python3"
  },
  "language_info": {
   "codemirror_mode": {
    "name": "ipython",
    "version": 3
   },
   "file_extension": ".py",
   "mimetype": "text/x-python",
   "name": "python",
   "nbconvert_exporter": "python",
   "pygments_lexer": "ipython3",
   "version": "3.7.6"
  }
 },
 "nbformat": 4,
 "nbformat_minor": 4
}
